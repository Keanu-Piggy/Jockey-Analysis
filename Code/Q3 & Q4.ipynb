{
 "cells": [
  {
   "cell_type": "code",
   "execution_count": null,
   "metadata": {
    "id": "rqhB-8767z6J"
   },
   "outputs": [],
   "source": [
    "### Q3. 做\"父系\"和\"外祖父\"的\"現時評分\"的平均分"
   ]
  },
  {
   "cell_type": "code",
   "execution_count": null,
   "metadata": {
    "id": "FMIpIhDW3lUD"
   },
   "outputs": [],
   "source": [
    "# 先做\"父系\"的\"現時評分\"平均分"
   ]
  },
  {
   "cell_type": "code",
   "execution_count": null,
   "metadata": {
    "colab": {
     "base_uri": "https://localhost:8080/"
    },
    "id": "5WAckhCP_FLh",
    "outputId": "644a9c62-d798-4b25-e6cc-d18167381f84"
   },
   "outputs": [],
   "source": [
    "# 计算每个“父系”的“現時評分”平均分，且清除掉“父系”只有一匹马的“父系”数据，生成新表\n",
    "\n",
    "import pandas as pd\n",
    "\n",
    "# Load the cleaned data\n",
    "file_path = '/Users/Keanu/Desktop/cleaned_data.csv'\n",
    "df = pd.read_csv(file_path)\n",
    "\n",
    "# Group by '父系' and calculate the mean of '現時評分'\n",
    "sire_ratings = df.groupby('父系')['現時評分'].agg(['mean', 'count'])\n",
    "\n",
    "# Filter out sires with only one horse\n",
    "sire_ratings = sire_ratings[sire_ratings['count'] > 1]\n",
    "\n",
    "# Rename the 'mean' column to '平均現時評分'\n",
    "sire_ratings = sire_ratings.rename(columns={'mean': '平均現時評分'})\n",
    "\n",
    "# Reset the index to make '父系' a regular column\n",
    "sire_ratings = sire_ratings.reset_index()\n",
    "\n",
    "# Drop the 'count' column\n",
    "sire_ratings = sire_ratings.drop(columns=['count'])\n",
    "\n",
    "# Save the results to a new csv file\n",
    "output_file_path = '/Users/Keanu/Desktop/sire_average_ratings.csv'\n",
    "sire_ratings.to_csv(output_file_path, index=False)\n",
    "\n",
    "print(f\"Average sire ratings saved to {output_file_path}\")"
   ]
  },
  {
   "cell_type": "code",
   "execution_count": null,
   "metadata": {
    "colab": {
     "base_uri": "https://localhost:8080/",
     "height": 607
    },
    "id": "Ygys9uw632_A",
    "outputId": "41a9f998-c5b3-4ab8-f7c4-3c465e62d229"
   },
   "outputs": [],
   "source": [
    "# 平均分前十名排名可视化\n",
    "\n",
    "import pandas as pd\n",
    "import matplotlib.pyplot as plt\n",
    "\n",
    "# 读取包含父系平均评分的csv文件\n",
    "file_path = '/Users/Keanu/Desktop/sire_average_ratings.csv'\n",
    "df = pd.read_csv(file_path)\n",
    "\n",
    "# 对平均评分进行排序，选取前十名\n",
    "top_10_sires = df.nlargest(10, '平均現時評分')\n",
    "\n",
    "# 创建柱状图\n",
    "plt.figure(figsize=(8, 6))\n",
    "plt.bar(top_10_sires['父系'], top_10_sires['平均現時評分'], color='wheat')\n",
    "plt.xlabel('Sire')\n",
    "plt.ylabel('Average current rating')\n",
    "plt.title('Average current rating of the top 10 SIRES')\n",
    "plt.xticks(rotation=45, ha='right')  # 旋转x轴标签，避免重叠\n",
    "\n",
    "# 在每个柱状图上标注数值\n",
    "for i, v in enumerate(top_10_sires['平均現時評分']):\n",
    "    plt.text(i, v + 0.1, str(round(v, 2)), ha='center', va='bottom')\n",
    "\n",
    "plt.tight_layout()\n",
    "plt.show()"
   ]
  },
  {
   "cell_type": "code",
   "execution_count": null,
   "metadata": {
    "id": "D9t1g-6aBUcC"
   },
   "outputs": [],
   "source": [
    "# 接着做\"外祖父\"的\"現時評分\"平均分"
   ]
  },
  {
   "cell_type": "code",
   "execution_count": null,
   "metadata": {
    "colab": {
     "base_uri": "https://localhost:8080/"
    },
    "id": "mMhKWSX_BsQN",
    "outputId": "6a22b194-993e-4ed3-9734-904771e2144c"
   },
   "outputs": [],
   "source": [
    "# 计算每个“外祖父”的“現時評分”平均分，且清除掉“外祖父”只有一匹马的“父系”数据，生成新表\n",
    "\n",
    "import pandas as pd\n",
    "\n",
    "# Load the cleaned data\n",
    "file_path = '/Users/Keanu/Desktop/cleaned_data.csv'\n",
    "df = pd.read_csv(file_path)\n",
    "\n",
    "# Group by '父系' and calculate the mean of '現時評分'\n",
    "damsire_ratings = df.groupby('外祖父')['現時評分'].agg(['mean', 'count'])\n",
    "\n",
    "# Filter out damsires with only one horse\n",
    "damsire_ratings = damsire_ratings[damsire_ratings['count'] > 1]\n",
    "\n",
    "# Rename the 'mean' column to '平均現時評分'\n",
    "damsire_ratings = damsire_ratings.rename(columns={'mean': '平均現時評分'})\n",
    "\n",
    "# Reset the index to make '外祖父' a regular column\n",
    "damsire_ratings = damsire_ratings.reset_index()\n",
    "\n",
    "# Drop the 'count' column\n",
    "damsire_ratings = damsire_ratings.drop(columns=['count'])\n",
    "\n",
    "# Save the results to a new csv file\n",
    "output_file_path = '/Users/Keanu/Desktop/damsire_average_ratings.csv'\n",
    "damsire_ratings.to_csv(output_file_path, index=False)\n",
    "\n",
    "print(f\"Average damsire ratings saved to {output_file_path}\")"
   ]
  },
  {
   "cell_type": "code",
   "execution_count": null,
   "metadata": {
    "colab": {
     "base_uri": "https://localhost:8080/",
     "height": 607
    },
    "id": "T8DA9QkOCKhp",
    "outputId": "ac152aa6-e5f2-43f2-a6f7-c599a03bedf0"
   },
   "outputs": [],
   "source": [
    "# 平均分前十名排名可视化\n",
    "\n",
    "import pandas as pd\n",
    "import matplotlib.pyplot as plt\n",
    "\n",
    "# 读取包含外祖父平均评分的csv文件\n",
    "file_path = '/Users/Keanu/Desktop/damsire_average_ratings.csv'\n",
    "df = pd.read_csv(file_path)\n",
    "\n",
    "# 对平均评分进行排序，选取前十名\n",
    "top_10_damsires = df.nlargest(10, '平均現時評分')\n",
    "\n",
    "# 创建柱状图\n",
    "plt.figure(figsize=(8, 6))\n",
    "plt.bar(top_10_damsires['外祖父'], top_10_damsires['平均現時評分'], color='tan')\n",
    "plt.xlabel('Sire')\n",
    "plt.ylabel('Average current rating')\n",
    "plt.title('Average current rating of the top 10 DAMsSIRES')\n",
    "plt.xticks(rotation=45, ha='right')  # 旋转x轴标签，避免重叠\n",
    "\n",
    "# 在每个柱状图上标注数值\n",
    "for i, v in enumerate(top_10_damsires['平均現時評分']):\n",
    "    plt.text(i, v + 0.1, str(round(v, 2)), ha='center', va='bottom')\n",
    "\n",
    "plt.tight_layout()\n",
    "plt.show()"
   ]
  },
  {
   "cell_type": "code",
   "execution_count": null,
   "metadata": {
    "id": "Xistwmo_CpQu"
   },
   "outputs": [],
   "source": [
    "### Q4. 比较胜率（只看第一和前三的胜率，因为对应了下注\"独赢\"和\"位置\"）"
   ]
  },
  {
   "cell_type": "code",
   "execution_count": null,
   "metadata": {
    "colab": {
     "base_uri": "https://localhost:8080/"
    },
    "id": "5SX7tQ10Zzk8",
    "outputId": "86924f79-776d-42f0-a585-f61c69f471ea"
   },
   "outputs": [],
   "source": [
    "# 再次数据处理，清理掉“total_races”为0、1、2的数据，即马匹至少要比过3场\n",
    "\n",
    "import pandas as pd\n",
    "\n",
    "# 读取处理后的csv文件\n",
    "file_path = '/Users/Keanu/Desktop/cleaned_data.csv'\n",
    "df = pd.read_csv(file_path)\n",
    "\n",
    "# 清理掉“total_races”为0、1、2的数据\n",
    "df_cleaned = df[df['total_races'] > 9]\n",
    "\n",
    "# 保存清理后的数据到新的csv文件\n",
    "new_file_path = '/Users/Keanu/Desktop/cleaned_races.csv'\n",
    "df_cleaned.to_csv(new_file_path, index=False)\n",
    "\n",
    "print(f\"Cleaned data saved to {new_file_path}\")"
   ]
  },
  {
   "cell_type": "code",
   "execution_count": null,
   "metadata": {
    "colab": {
     "base_uri": "https://localhost:8080/"
    },
    "id": "l5GAReAKaNuB",
    "outputId": "8d19d414-cd86-4509-dc03-a167eebdaa6f"
   },
   "outputs": [],
   "source": [
    "# 计算两种胜率，即 冠/总次数 的比率，以及 （冠+亚+季）/总次数 的比率\n",
    "\n",
    "# 读取处理后的csv文件\n",
    "file_path = '/Users/Keanu/Desktop/cleaned_races.csv'\n",
    "df = pd.read_csv(file_path)\n",
    "\n",
    "# 计算两种胜率\n",
    "df['win_rate'] = df['wins'] / df['total_races']\n",
    "df['top3_rate'] = (df['wins'] + df['seconds'] + df['thirds']) / df['total_races']\n",
    "\n",
    "# 打印结果或保存到新的csv文件\n",
    "print(df[['wins', 'seconds', 'thirds', 'total_races', 'win_rate', 'top3_rate']])\n",
    "\n",
    "# 保存结果到新的csv文件 (可选)\n",
    "new_file_path = '/Users/Keanu/Desktop/win_rates.csv'\n",
    "df.to_csv(new_file_path, index=False)\n",
    "print(f\"Win rates saved to {new_file_path}\")"
   ]
  },
  {
   "cell_type": "code",
   "execution_count": null,
   "metadata": {
    "colab": {
     "base_uri": "https://localhost:8080/"
    },
    "id": "3_IY466OEdm6",
    "outputId": "ccfb33cc-516e-43c1-fd0e-2d5d7cd2ec0a"
   },
   "outputs": [],
   "source": [
    "# prompt: 排序出两种胜率的前10名，分别列出马匹名称\n",
    "\n",
    "import pandas as pd\n",
    "\n",
    "# 读取包含胜率数据的csv文件\n",
    "file_path = '/Users/Keanu/Desktop/win_rates.csv'\n",
    "df = pd.read_csv(file_path)\n",
    "\n",
    "# 按 win_rate 排序并取前 10 名\n",
    "top_10_win_rate = df.nlargest(10, 'win_rate')\n",
    "print(\"Top 10 horses by win rate:\")\n",
    "print(top_10_win_rate[['马匹名称', 'win_rate']])\n",
    "\n",
    "# 按 top3_rate 排序并取前 10 名\n",
    "top_10_top3_rate = df.nlargest(10, 'top3_rate')\n",
    "print(\"\\nTop 10 horses by top 3 rate:\")\n",
    "print(top_10_top3_rate[['马匹名称', 'top3_rate']])"
   ]
  },
  {
   "cell_type": "code",
   "execution_count": null,
   "metadata": {},
   "outputs": [],
   "source": [
    "# 计算两种胜率，即 冠/总次数 的比率，以及 （冠+亚+季）/总次数 的比率\n",
    "\n",
    "# 读取处理后的csv文件\n",
    "file_path = '/Users/Keanu/Desktop/cleaned_races.csv'\n",
    "df = pd.read_csv(file_path)\n",
    "\n",
    "# 计算两种胜率\n",
    "df['win_rate'] = df['wins'] / df['total_races']\n",
    "df['top3_rate'] = (df['wins'] + df['seconds'] + df['thirds']) / df['total_races']\n",
    "\n",
    "# 按 win_rate 排序并取前 10 名\n",
    "top_10_win_rate = df.nlargest(10, 'win_rate')\n",
    "print(\"Top 10 horses by win rate:\")\n",
    "print(top_10_win_rate[['马匹名称', 'win_rate']])\n",
    "\n",
    "# 按 top3_rate 排序并取前 10 名\n",
    "top_10_top3_rate = df.nlargest(10, 'top3_rate')\n",
    "print(\"\\nTop 10 horses by top 3 rate:\")\n",
    "print(top_10_top3_rate[['马匹名称', 'top3_rate']])"
   ]
  }
 ],
 "metadata": {
  "colab": {
   "provenance": []
  },
  "kernelspec": {
   "display_name": "base",
   "language": "python",
   "name": "python3"
  },
  "language_info": {
   "codemirror_mode": {
    "name": "ipython",
    "version": 3
   },
   "file_extension": ".py",
   "mimetype": "text/x-python",
   "name": "python",
   "nbconvert_exporter": "python",
   "pygments_lexer": "ipython3",
   "version": "3.12.7"
  }
 },
 "nbformat": 4,
 "nbformat_minor": 0
}
