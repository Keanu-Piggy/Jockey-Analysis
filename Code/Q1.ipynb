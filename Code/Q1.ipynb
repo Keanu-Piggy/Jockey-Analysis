{
 "cells": [
  {
   "cell_type": "code",
   "execution_count": null,
   "metadata": {},
   "outputs": [],
   "source": [
    "###Q1.Step1.按照年份分开，以防出现只遍历一次场次的情况"
   ]
  },
  {
   "cell_type": "code",
   "execution_count": null,
   "metadata": {},
   "outputs": [],
   "source": [
    "import pandas as pd\n",
    "\n",
    "# 读取已整理好的CSV文件\n",
    "df = pd.read_csv('/Users/Keanu/Desktop/all_sorted_cleaned.csv')\n",
    "\n",
    "# 将“日期”列转换为日期类型\n",
    "df['日期'] = pd.to_datetime(df['日期'], format='%Y-%m-%d', errors='coerce')\n",
    "\n",
    "# 按照年份切分数据\n",
    "for year, data in df.groupby(df['日期'].dt.year):\n",
    "    output_path = f'/Users/Keanu/Desktop/all_sorted_{year}.csv'\n",
    "    data.to_csv(output_path, index=False)\n",
    "    print(f\"年份 {year} 的数据已保存为 {output_path}\")\n"
   ]
  },
  {
   "cell_type": "code",
   "execution_count": null,
   "metadata": {},
   "outputs": [],
   "source": [
    "###Step2.这里再把几个合起来"
   ]
  },
  {
   "cell_type": "code",
   "execution_count": null,
   "metadata": {},
   "outputs": [],
   "source": [
    "import pandas as pd\n",
    "\n",
    "# 提取每场中“分”最高的数据并合并所有年份的结果\n",
    "def extract_and_merge_max_scores(years, input_dir, output_file):\n",
    "    df_list = []\n",
    "    for year in years:\n",
    "        input_path = f'{input_dir}/all_sorted_{year}.csv'\n",
    "        # 读取CSV文件\n",
    "        df = pd.read_csv(input_path)\n",
    "\n",
    "        # 将“分”列转换为数值类型\n",
    "        df['分'] = pd.to_numeric(df['分'], errors='coerce')\n",
    "\n",
    "        # 提取每一“場”中“分”最高的数据，保留所有最高分的记录\n",
    "        df_max_score_per_event = df[df['分'] == df.groupby('場')['分'].transform('max')]\n",
    "        df_list.append(df_max_score_per_event)\n",
    "\n",
    "        print(f\"{year}年每一場中分数最高的数据已提取\")\n",
    "\n",
    "    # 合并所有年份的数据框\n",
    "    df_merged = pd.concat(df_list, ignore_index=True)\n",
    "\n",
    "    # 保存合并后的文件\n",
    "    df_merged.to_csv(output_file, index=False)\n",
    "    print(f\"所有文件已合并并保存为 {output_file}\")\n",
    "\n",
    "# 设置输入和输出参数\n",
    "years = ['2021', '2022', '2023', '2024']\n",
    "input_directory = '/Users/Keanu/Desktop'\n",
    "output_filepath = '/Users/Keanu/Desktop/merged_max_score_events.csv'\n",
    "\n",
    "# 执行提取和合并操作\n",
    "extract_and_merge_max_scores(years, input_directory, output_filepath)\n"
   ]
  },
  {
   "cell_type": "code",
   "execution_count": null,
   "metadata": {},
   "outputs": [],
   "source": [
    "###Step3.再次清洗数据，相同评分的不予考虑"
   ]
  },
  {
   "cell_type": "code",
   "execution_count": null,
   "metadata": {},
   "outputs": [],
   "source": [
    "import pandas as pd\n",
    "\n",
    "# 读取数据集\n",
    "file_path = '/Users/Keanu/Desktop/merged_max_score_events.csv'\n",
    "df = pd.read_csv(file_path)\n",
    "\n",
    "# 删除日期、場、分相同的重复行，保留第一条出现的记录\n",
    "df_cleaned = df.drop_duplicates(subset=['日期', '場', '分'], keep='first')\n",
    "\n",
    "# 保存清洗后的数据集\n",
    "output_path = '/Users/Keanu/Desktop/cleaned_max_score_events.csv'\n",
    "df_cleaned.to_csv(output_path, index=False)\n",
    "\n",
    "print(f\"清洗后的数据集已保存为 {output_path}\")\n"
   ]
  },
  {
   "cell_type": "code",
   "execution_count": null,
   "metadata": {},
   "outputs": [],
   "source": [
    "###Step4.计算比例"
   ]
  },
  {
   "cell_type": "code",
   "execution_count": null,
   "metadata": {},
   "outputs": [],
   "source": [
    "import pandas as pd\n",
    "\n",
    "# 读取合并后的文件\n",
    "df = pd.read_csv('/Users/Keanu/Desktop/cleaned_max_score_events.csv')\n",
    "\n",
    "# 提取“名”是1的数据\n",
    "df_rank_1 = df[df['名'] == 1]\n",
    "\n",
    "# 计算“名”是1的数据的条数占总体的比例\n",
    "rank_1_count = len(df_rank_1)\n",
    "total_count = len(df)\n",
    "rank_1_ratio = rank_1_count / total_count\n",
    "\n",
    "# 保存提取出的“名”是1的数据到新的CSV文件\n",
    "df_rank_1.to_csv('/Users/Keanu/Desktop/rank_1_data.csv', index=False)\n",
    "\n",
    "# 输出结果\n",
    "print(f\"名为1的数据条数: {rank_1_count}\")\n",
    "print(f\"名为1的数据占总体的比例: {rank_1_ratio:.2%}\")"
   ]
  },
  {
   "cell_type": "code",
   "execution_count": null,
   "metadata": {},
   "outputs": [],
   "source": [
    "##Step5.可视化（饼状图）"
   ]
  },
  {
   "cell_type": "code",
   "execution_count": null,
   "metadata": {},
   "outputs": [],
   "source": [
    "# 所有名次分布"
   ]
  },
  {
   "cell_type": "code",
   "execution_count": null,
   "metadata": {},
   "outputs": [],
   "source": [
    "import pandas as pd\n",
    "import matplotlib.pyplot as plt\n",
    "import matplotlib.cm as cm\n",
    "\n",
    "# ... (Your existing code for data processing) ...\n",
    "\n",
    "# 读取包含比例数据的 CSV 文件\n",
    "df = pd.read_csv('/Users/Keanu/Desktop/cleaned_max_score_events.csv')\n",
    "\n",
    "# 计算每个名次的出现次数\n",
    "rank_counts = df['名'].value_counts()\n",
    "\n",
    "# 创建颜色映射\n",
    "colors = cm.get_cmap('viridis', len(rank_counts))  # 使用viridis颜色映射，可以替换成其他颜色映射\n",
    "\n",
    "# 创建饼图\n",
    "plt.figure(figsize=(8, 8))\n",
    "wedges, texts, autotexts = plt.pie(rank_counts, labels=rank_counts.index, autopct='%1.1f%%', startangle=90, colors=[colors(i) for i in range(len(rank_counts))])\n",
    "\n",
    "# 添加图例，并调整图例位置\n",
    "plt.legend(wedges, rank_counts.index, title=\"Ranking\", loc=\"center left\", bbox_to_anchor=(1, 0, 0.5, 1))\n",
    "\n",
    "# 调整标签字体大小和颜色\n",
    "for autotext in autotexts:\n",
    "    autotext.set_fontsize(10)\n",
    "    autotext.set_color('white')\n",
    "\n",
    "\n",
    "plt.title('Ranking Distribution')\n",
    "plt.axis('equal')  # Equal aspect ratio ensures that pie is drawn as a circle.\n",
    "\n",
    "# 保存图片\n",
    "plt.savefig('ranking_pie_chart.png', bbox_inches='tight')\n",
    "\n",
    "plt.show()"
   ]
  },
  {
   "cell_type": "code",
   "execution_count": null,
   "metadata": {},
   "outputs": [],
   "source": [
    "# 第一名占比"
   ]
  },
  {
   "cell_type": "code",
   "execution_count": null,
   "metadata": {},
   "outputs": [],
   "source": [
    "import pandas as pd\n",
    "import matplotlib.pyplot as plt\n",
    "\n",
    "# Load the data\n",
    "df = pd.read_csv('/Users/Keanu/Desktop/cleaned_max_score_events.csv')\n",
    "\n",
    "# Calculate the proportion of rank 1\n",
    "df_rank_1 = df[df['名'] == 1]\n",
    "rank_1_count = len(df_rank_1)\n",
    "total_count = len(df)\n",
    "rank_1_ratio = rank_1_count / total_count\n",
    "\n",
    "# Create the visualization\n",
    "labels = ['Rank 1', 'Other Ranks']\n",
    "sizes = [rank_1_ratio, 1 - rank_1_ratio]\n",
    "colors = ['lightcoral', 'lightskyblue']\n",
    "explode = (0.1, 0)  # explode 1st slice\n",
    "\n",
    "plt.figure(figsize=(6, 6))  # Adjust figure size\n",
    "plt.pie(sizes, explode=explode, labels=labels, colors=colors,\n",
    "        autopct='%1.1f%%', shadow=True, startangle=140)\n",
    "plt.axis('equal')  # Equal aspect ratio ensures that pie is drawn as a circle.\n",
    "plt.title('Proportion of Rank 1')\n",
    "plt.show()"
   ]
  }
 ],
 "metadata": {
  "kernelspec": {
   "display_name": "base",
   "language": "python",
   "name": "python3"
  },
  "language_info": {
   "codemirror_mode": {
    "name": "ipython",
    "version": 3
   },
   "file_extension": ".py",
   "mimetype": "text/x-python",
   "name": "python",
   "nbconvert_exporter": "python",
   "pygments_lexer": "ipython3",
   "version": "3.12.7"
  }
 },
 "nbformat": 4,
 "nbformat_minor": 2
}
