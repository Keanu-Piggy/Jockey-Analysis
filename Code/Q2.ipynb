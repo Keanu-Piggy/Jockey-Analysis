{
 "cells": [
  {
   "cell_type": "code",
   "execution_count": null,
   "metadata": {
    "id": "T7oKR7xC5Wol"
   },
   "outputs": [],
   "source": [
    "from selenium import webdriver\n",
    "from selenium.webdriver.common.by import By\n",
    "from selenium.webdriver.chrome.service import Service\n",
    "from selenium.webdriver.chrome.options import Options\n",
    "from selenium.webdriver.support.ui import WebDriverWait\n",
    "from selenium.webdriver.support import expected_conditions as EC\n",
    "from webdriver_manager.chrome import ChromeDriverManager\n",
    "from selenium.webdriver.support.ui import Select\n",
    "import pandas as pd\n",
    "import time\n",
    "\n",
    "\n",
    "# 配置Chrome选项\n",
    "options = Options()\n",
    "options.headless = False  # 设置为True时不会打开浏览器界面，设置为False可以看到浏览器\n",
    "\n",
    "# 设置Chrome驱动\n",
    "driver = webdriver.Chrome(service=Service(ChromeDriverManager().install()), options=options)\n",
    "\n",
    "# Step 1: 打开搜索页面\n",
    "driver.get(\"https://racing.on.cc/cgi-bin/srh/search/search.cgi\")\n",
    "time.sleep(2)  # 等待页面加载\n",
    "\n",
    "# Step 2: 找到“赛事年度（开始年份）”选择框并选择\"2024\"\n",
    "start_year_select = WebDriverWait(driver, 10).until(\n",
    "    EC.presence_of_element_located((By.NAME, \"fryear\"))  # 根据实际的字段名称来获取\n",
    ")\n",
    "start_year_select = Select(start_year_select)\n",
    "start_year_select.select_by_visible_text(\"2023\")  # 选择2024\n",
    "\n",
    "# Step 3: 找到“赛事年度（结束年份）”选择框并选择\"2025\"\n",
    "end_year_select = WebDriverWait(driver, 10).until(\n",
    "    EC.presence_of_element_located((By.NAME, \"toyear\"))  # 根据实际的字段名称来获取\n",
    ")\n",
    "end_year_select = Select(end_year_select)\n",
    "end_year_select.select_by_visible_text(\"2023\")  # 选择2025\n",
    "\n",
    "# Step 4: 找到提交按钮，先使用滚动和显式等待确保按钮可点击\n",
    "submit_button = WebDriverWait(driver, 10).until(\n",
    "    EC.element_to_be_clickable((By.NAME, \"submitButton\"))\n",
    ")\n",
    "\n",
    "# 确保按钮可见\n",
    "driver.execute_script(\"arguments[0].scrollIntoView();\", submit_button)\n",
    "\n",
    "# 点击按钮\n",
    "submit_button.click()  # 提交表单\n",
    "\n",
    "# Step 5: 等待页面跳转到结果页面\n",
    "time.sleep(3)  # 等待页面跳转\n",
    "\n",
    "# Step 6: 在结果页面中找到链接文本为\"192\"的元素并点击\n",
    "try:\n",
    "    # 根据链接文本来找到并点击\n",
    "    link = WebDriverWait(driver, 10).until(\n",
    "        EC.presence_of_element_located((By.LINK_TEXT, \"7360\"))  # 查找链接文本为\"192\"的元素\n",
    "    )\n",
    "    link.click()  # 点击链接\n",
    "\n",
    "    # 等待页面跳转\n",
    "    time.sleep(3)  # 等待页面加载到目标页面\n",
    "\n",
    "    # Step 7: 获取目标页面中的数据\n",
    "    print(\"Current URL:\", driver.current_url)  # 打印当前页面URL，确保跳转正确\n",
    "\n",
    "    # 获取表格内容\n",
    "    try:\n",
    "        # 使用提供的XPath定位表格\n",
    "        table = driver.find_element(By.XPATH, '//*[@id=\"maintable\"]/tbody/tr[5]/td/table/tbody/tr/td[2]/table/tbody/tr[4]/td[2]/table/tbody/tr/td/table/tbody/tr[2]/td[2]/table')\n",
    "        rows = table.find_elements(By.TAG_NAME, \"tr\")  # 获取所有行\n",
    "\n",
    "        # 数据存储列表\n",
    "        table_data = []\n",
    "\n",
    "        # 遍历每一行，输出数据\n",
    "        for row in rows:\n",
    "            cells = row.find_elements(By.TAG_NAME, \"td\")  # 获取每行的所有单元格\n",
    "            cell_text = [cell.text.strip() if cell.text.strip() != \"\" else \"\" for cell in cells]  # 如果单元格为空，插入空字符串\n",
    "            table_data.append(cell_text)  # 将数据添加到列表中\n",
    "\n",
    "        # 检查是否获取到数据\n",
    "        if table_data:\n",
    "            # 将数据转换为DataFrame\n",
    "            df = pd.DataFrame(table_data)\n",
    "\n",
    "            # 保存为CSV文件，使用 utf-8-sig 编码，确保中文字符在Excel中正常显示\n",
    "            df.to_csv(\"/Users/Keanu/Desktop/racing_data2.csv\", index=False, encoding=\"utf-8\")\n",
    "\n",
    "            print(\"数据已保存为racing_data.csv\")\n",
    "        else:\n",
    "            print(\"没有获取到表格数据。\")\n",
    "    except Exception as e:\n",
    "        print(f\"Error extracting table data: {e}\")\n",
    "\n",
    "except Exception as e:\n",
    "    print(f\"Error clicking the link: {e}\")\n",
    "\n",
    "# Step 8: 关闭浏览器\n",
    "driver.quit()\n"
   ]
  },
  {
   "cell_type": "code",
   "execution_count": null,
   "metadata": {
    "id": "DIsCe6Bz5Woo"
   },
   "outputs": [],
   "source": [
    "###爬取数据"
   ]
  },
  {
   "cell_type": "code",
   "execution_count": null,
   "metadata": {
    "id": "kLZ06VJM5Woo"
   },
   "outputs": [],
   "source": [
    "from selenium import webdriver\n",
    "from selenium.webdriver.common.by import By\n",
    "from selenium.webdriver.chrome.service import Service\n",
    "from selenium.webdriver.chrome.options import Options\n",
    "from selenium.webdriver.support.ui import WebDriverWait\n",
    "from selenium.webdriver.support import expected_conditions as EC\n",
    "from selenium.webdriver.support.ui import Select\n",
    "from webdriver_manager.chrome import ChromeDriverManager\n",
    "import pandas as pd\n",
    "import time\n",
    "import random\n",
    "\n",
    "# 配置Chrome选项\n",
    "options = Options()\n",
    "options.headless = False  # 设置为True时不会打开浏览器界面，设置为False可以看到浏览器\n",
    "\n",
    "# 设置Chrome驱动\n",
    "driver = webdriver.Chrome(service=Service(ChromeDriverManager().install()), options=options)\n",
    "\n",
    "try:\n",
    "    # Step 1: 打开搜索页面\n",
    "    driver.get(\"https://racing.on.cc/cgi-bin/srh/search/search.cgi\")\n",
    "    WebDriverWait(driver, 20).until(\n",
    "        EC.presence_of_element_located((By.NAME, \"fryear\"))\n",
    "    )\n",
    "\n",
    "    # Step 2: 找到“赛事年度（开始年份）”选择框并选择\"2024\"\n",
    "    start_year_select = Select(driver.find_element(By.NAME, \"fryear\"))\n",
    "    start_year_select.select_by_visible_text(\"2023\")\n",
    "\n",
    "    # Step 3: 找到“赛事年度（结束年份）”选择框并选择\"2025\"\n",
    "    end_year_select = Select(driver.find_element(By.NAME, \"toyear\"))\n",
    "    end_year_select.select_by_visible_text(\"2023\")\n",
    "\n",
    "    # Step 4: 找到提交按钮并点击\n",
    "    submit_button = WebDriverWait(driver, 20).until(\n",
    "        EC.element_to_be_clickable((By.NAME, \"submitButton\"))\n",
    "    )\n",
    "    driver.execute_script(\"arguments[0].scrollIntoView();\", submit_button)\n",
    "    driver.execute_script(\"arguments[0].click();\", submit_button)  # 强制使用JavaScript点击按钮\n",
    "\n",
    "    # Step 5: 等待页面跳转到结果页面\n",
    "    WebDriverWait(driver, 20).until(\n",
    "        EC.presence_of_element_located((By.LINK_TEXT, \"7360\"))\n",
    "    )\n",
    "\n",
    "    # Step 6: 点击结果页面的链接\n",
    "    link = driver.find_element(By.LINK_TEXT, \"7360\")\n",
    "    link.click()\n",
    "\n",
    "    # Step 7: 获取目标页面中的数据\n",
    "    WebDriverWait(driver, 20).until(\n",
    "        EC.presence_of_element_located((By.XPATH, '//*[@id=\"maintable\"]/tbody/tr[5]/td/table'))\n",
    "    )\n",
    "    table = driver.find_element(By.XPATH, '//*[@id=\"maintable\"]/tbody/tr[5]/td/table/tbody/tr/td[2]/table/tbody/tr[4]/td[2]/table/tbody/tr/td/table/tbody/tr[2]/td[2]/table')\n",
    "    rows = table.find_elements(By.TAG_NAME, \"tr\")\n",
    "\n",
    "    # 数据存储列表\n",
    "    table_data = []\n",
    "    for row in rows:\n",
    "        cells = row.find_elements(By.TAG_NAME, \"td\")\n",
    "        cell_text = [cell.text.strip() if cell.text.strip() != \"\" else \"\" for cell in cells]\n",
    "        table_data.append(cell_text)\n",
    "\n",
    "    # 保存数据到CSV文件\n",
    "    if table_data:\n",
    "        df = pd.DataFrame(table_data)\n",
    "        df.to_csv(\"/Users/Keanu/Desktop/racing_data2.csv\", index=False, encoding=\"utf-8\")\n",
    "        print(\"数据已保存为 racing_data2.csv\")\n",
    "    else:\n",
    "        print(\"没有获取到表格数据。\")\n",
    "\n",
    "except Exception as e:\n",
    "    print(f\"An error occurred: {e}\")\n",
    "\n",
    "finally:\n",
    "    # Step 8: 关闭浏览器\n",
    "    driver.quit()\n"
   ]
  },
  {
   "cell_type": "code",
   "execution_count": null,
   "metadata": {
    "id": "IGrioli85Wop"
   },
   "outputs": [],
   "source": [
    "###Step1.将四个从网页上爬取下来的数据集进行整合"
   ]
  },
  {
   "cell_type": "code",
   "execution_count": null,
   "metadata": {
    "colab": {
     "base_uri": "https://localhost:8080/"
    },
    "id": "BGTYiJyb5Wop",
    "outputId": "1f8094df-5fb6-4d4a-d181-9e778ac8852a"
   },
   "outputs": [],
   "source": [
    "import pandas as pd\n",
    "\n",
    "# File paths\n",
    "file_paths = [\n",
    "    '/content/冠.csv',\n",
    "    '/content/亚.csv',\n",
    "    '/content/季.csv',\n",
    "    '/content/负.csv'\n",
    "]\n",
    "\n",
    "# Load each CSV file into a DataFrame and concatenate them\n",
    "combined_all_df = pd.concat([pd.read_csv(file) for file in file_paths], axis=0, ignore_index=True).drop_duplicates()\n",
    "\n",
    "# Set output file path and export the combined DataFrame to CSV\n",
    "output_file_path = '/content/all.csv'\n",
    "combined_all_df.to_csv(output_file_path, index=False, encoding='utf-8')\n",
    "\n",
    "print(f\"The combined table has been saved to: '{output_file_path}'\")\n"
   ]
  },
  {
   "cell_type": "code",
   "execution_count": null,
   "metadata": {
    "id": "Wqv9RurD5Woq"
   },
   "outputs": [],
   "source": [
    "###Step2.按照日期和场次排好"
   ]
  },
  {
   "cell_type": "code",
   "execution_count": null,
   "metadata": {
    "colab": {
     "base_uri": "https://localhost:8080/"
    },
    "id": "LQoEeuBf5Woq",
    "outputId": "c6dee667-c008-4996-e612-5683c7ba9fec"
   },
   "outputs": [],
   "source": [
    "import pandas as pd\n",
    "\n",
    "# Load the CSV file\n",
    "file_path = '/content/all.csv'\n",
    "data = pd.read_csv(file_path)\n",
    "\n",
    "# Convert '日期' column to datetime\n",
    "data['日期'] = pd.to_datetime(data['日期'], format='%m/%d/%y', errors='coerce')\n",
    "\n",
    "# Drop rows with invalid dates\n",
    "data = data.dropna(subset=['日期'])\n",
    "\n",
    "# Sort by '日期' in descending order\n",
    "df_sorted = data.sort_values(by='日期', ascending=False)\n",
    "\n",
    "# Sort by '場' in descending order while preserving the order of '日期'\n",
    "df_sorted = df_sorted.sort_values(by=['日期', '場'], ascending=[False, False])\n",
    "\n",
    "# Reset the index\n",
    "df_sorted.reset_index(drop=True, inplace=True)\n",
    "\n",
    "# Save the sorted data to a new CSV file\n",
    "df_sorted.to_csv('/content/all_sorted.csv', index=False)\n",
    "\n",
    "print(\"Data has been sorted and saved as 'all_sorted.csv'\")\n"
   ]
  },
  {
   "cell_type": "code",
   "execution_count": null,
   "metadata": {
    "id": "ESVRrlNr5Woq"
   },
   "outputs": [],
   "source": [
    "###Step3.检查缺失值"
   ]
  },
  {
   "cell_type": "code",
   "execution_count": null,
   "metadata": {
    "colab": {
     "base_uri": "https://localhost:8080/"
    },
    "id": "OxIk-b3i5Wor",
    "outputId": "074bfa31-ab44-462b-9951-d722fc827513"
   },
   "outputs": [],
   "source": [
    "import pandas as pd\n",
    "\n",
    "# Load the CSV file\n",
    "file_path = '/content/all_sorted.csv'\n",
    "data = pd.read_csv(file_path)\n",
    "\n",
    "# Check for missing values in each column\n",
    "missing_values = data.isnull().sum()\n",
    "print(\"Missing values in each column:\\n\", missing_values)\n",
    "\n",
    "# Extract rows with missing values\n",
    "rows_with_missing = data[data.isnull().any(axis=1)]\n",
    "\n",
    "# Save the rows with missing values to a new CSV file\n",
    "rows_with_missing.to_csv('/content/rows_with_missing_values.csv', index=False)\n",
    "\n",
    "print(\"Rows with missing values have been saved as 'rows_with_missing_values.csv'\")\n"
   ]
  },
  {
   "cell_type": "code",
   "execution_count": null,
   "metadata": {
    "id": "C-RJQNnn5Wor"
   },
   "outputs": [],
   "source": [
    "###Step4.数据清洗"
   ]
  },
  {
   "cell_type": "code",
   "execution_count": null,
   "metadata": {
    "colab": {
     "base_uri": "https://localhost:8080/"
    },
    "id": "jvBc-W2j5Wos",
    "outputId": "2294db0d-5f94-416e-d201-5f5604016abf"
   },
   "outputs": [],
   "source": [
    "import pandas as pd\n",
    "\n",
    "# Load the CSV file\n",
    "file_path = '/content/all_sorted.csv'\n",
    "data = pd.read_csv(file_path)\n",
    "\n",
    "# Replace missing values in '配備' column with 'None'\n",
    "data['配備'].fillna('None', inplace=True)\n",
    "\n",
    "# Drop rows with any other missing values\n",
    "data = data.dropna()\n",
    "\n",
    "# Check for missing values in each column\n",
    "missing_values = data.isnull().sum()\n",
    "print(\"Missing values in each column:\\n\", missing_values)\n",
    "\n",
    "# Save the cleaned data to a new CSV file\n",
    "data.to_csv('/content/all_sorted_cleaned.csv', index=False)\n",
    "\n",
    "print(\"Cleaned data has been saved as 'all_sorted_cleaned.csv'\")\n"
   ]
  },
  {
   "cell_type": "code",
   "execution_count": null,
   "metadata": {
    "id": "ka1dU3Gy5Wos"
   },
   "outputs": [],
   "source": [
    "# Step5. 可视化"
   ]
  },
  {
   "cell_type": "code",
   "execution_count": null,
   "metadata": {
    "colab": {
     "base_uri": "https://localhost:8080/"
    },
    "id": "LRJHVKN_5Wos",
    "outputId": "e8012d2c-4257-4581-e5ac-9c469ab93da3"
   },
   "outputs": [],
   "source": [
    "pip install pandas matplotlib seaborn openpyxl"
   ]
  },
  {
   "cell_type": "code",
   "execution_count": null,
   "metadata": {
    "id": "u3UJ2dO55Wos"
   },
   "outputs": [],
   "source": [
    "import pandas as pd\n",
    "import seaborn as sns\n",
    "import matplotlib.pyplot as plt"
   ]
  },
  {
   "cell_type": "code",
   "execution_count": null,
   "metadata": {
    "colab": {
     "base_uri": "https://localhost:8080/"
    },
    "id": "e8pxAvFS5Wot",
    "outputId": "5e7c9122-3c24-402b-b854-73dcca8252b7"
   },
   "outputs": [],
   "source": [
    "# 挑选出“名”为1的冠军馬匹数据，生成新表\n",
    "\n",
    "import pandas as pd\n",
    "\n",
    "# Load the cleaned dataset\n",
    "df = pd.read_csv('/content/all_sorted_cleaned.csv')\n",
    "\n",
    "# Filter for rows where '名' is 1\n",
    "champion_horses = df[df['名'] == 1]\n",
    "\n",
    "# Save the filtered data to a new CSV file\n",
    "champion_horses.to_csv('/content/champion_horses.csv', index=False, encoding='utf-8')\n",
    "\n",
    "print(\"Data for champion horses (名 = 1) has been saved to 'champion_horses.csv'\")"
   ]
  },
  {
   "cell_type": "code",
   "execution_count": null,
   "metadata": {
    "colab": {
     "base_uri": "https://localhost:8080/",
     "height": 1000
    },
    "collapsed": true,
    "id": "9Hdvr2aw5Wot",
    "outputId": "d18ea800-f625-4d5f-cf51-ec01ace84024"
   },
   "outputs": [],
   "source": [
    "#绘制散点图\n",
    "df = pd.read_csv('/content/champion_horses.csv')\n",
    "scatter_data = df[['馬匹', '賠']].dropna()\n",
    "# 确保“赔率”为数值\n",
    "scatter_data['賠'] = pd.to_numeric(scatter_data['賠'], errors='coerce')\n",
    "scatter_data = scatter_data.dropna()  # 删除无效数据\n",
    "# 设置颜色映射\n",
    "cmap = plt.cm.viridis  # 使用viridis配色\n",
    "normalize = plt.Normalize(vmin=scatter_data['賠'].min(), vmax=scatter_data['賠'].max())\n",
    "# 绘制散点图\n",
    "plt.figure(figsize=(18, 8))\n",
    "sc = plt.scatter(\n",
    "    scatter_data['馬匹'], scatter_data['賠'],\n",
    "    c=scatter_data['賠'], cmap=cmap,\n",
    "    s=60, alpha=0.8, edgecolor='k', linewidth=0.5  # 点的大小、透明度和边框\n",
    ")\n",
    "# 添加颜色条\n",
    "cbar = plt.colorbar(sc)\n",
    "cbar.set_label('赔率大小', fontsize=12)\n",
    "\n",
    "# 添加网格、标签和标题\n",
    "plt.xticks(rotation=90, fontsize=10)  # x轴标签旋转\n",
    "plt.yticks(fontsize=10)\n",
    "plt.xlabel('Horse', fontsize=16)\n",
    "plt.ylabel('Odds', fontsize=16)\n",
    "plt.title('Scatter plot of horse odds (color indicates odds size)', fontsize=20)\n",
    "plt.grid(alpha=0.2)\n",
    "# 显示图\n",
    "plt.tight_layout()\n",
    "plt.show()"
   ]
  },
  {
   "cell_type": "code",
   "execution_count": null,
   "metadata": {
    "colab": {
     "base_uri": "https://localhost:8080/",
     "height": 586
    },
    "id": "FBsKiXk38YuB",
    "outputId": "2ab9d091-b6cc-4bec-90b2-e5194ea8e815"
   },
   "outputs": [],
   "source": [
    "# 做中位数的可视化\n",
    "\n",
    "import pandas as pd\n",
    "import matplotlib.pyplot as plt\n",
    "import seaborn as sns\n",
    "import numpy as np\n",
    "\n",
    "# Load the dataset\n",
    "df = pd.read_csv('/content/champion_horses.csv')\n",
    "\n",
    "# Prepare the data for visualization (assuming '賠' column represents odds)\n",
    "odds_data = df['賠'].dropna()  # Remove missing values\n",
    "odds_data = pd.to_numeric(odds_data, errors='coerce').dropna() # Convert to numeric and remove invalid entries\n",
    "\n",
    "\n",
    "# Calculate percentiles\n",
    "median = np.median(odds_data)\n",
    "\n",
    "print(f\"Median: {median}\")\n",
    "\n",
    "# Create the histogram\n",
    "plt.figure(figsize=(10, 6))\n",
    "sns.histplot(odds_data, kde=True, color='pink', edgecolor='grey')\n",
    "\n",
    "# Add vertical lines for percentiles and median\n",
    "plt.axvline(median, color='red', linestyle='dashed', linewidth=1, label=f'Median ({median:.2f})')\n",
    "\n",
    "\n",
    "# Annotate the lines\n",
    "plt.text(median + 0.1, plt.gca().get_ylim()[1] * 0.8, f'{median:.2f}', color='red', fontsize=10)\n",
    "\n",
    "# Add labels and title\n",
    "plt.xlabel('Odds', fontsize=12)\n",
    "plt.ylabel('Frequency', fontsize=12)\n",
    "plt.title('Champion Horse Odds Frequency Histogram', fontsize=14)\n",
    "plt.legend()\n",
    "plt.grid(True, linestyle='--', alpha=0.4)\n",
    "plt.show()"
   ]
  },
  {
   "cell_type": "code",
   "execution_count": null,
   "metadata": {
    "id": "LKpVmc6G5Wou"
   },
   "outputs": [],
   "source": [
    "# 亚军可视化"
   ]
  },
  {
   "cell_type": "code",
   "execution_count": null,
   "metadata": {
    "colab": {
     "base_uri": "https://localhost:8080/"
    },
    "id": "nw1-vH2N5Wou",
    "outputId": "f9ff237d-1da3-45cb-81b3-cd8f6b6b61d6"
   },
   "outputs": [],
   "source": [
    "# 挑选出“名”为2的馬匹数据，生成新表\n",
    "\n",
    "import pandas as pd\n",
    "\n",
    "# Load the cleaned dataset\n",
    "df = pd.read_csv('/content/all_sorted_cleaned.csv')\n",
    "\n",
    "# Filter for rows where '名' is 2\n",
    "second_horses = df[df['名'] == 2]\n",
    "\n",
    "# Save the filtered data to a new CSV file\n",
    "second_horses.to_csv('/content/second_horses.csv', index=False, encoding='utf-8')\n",
    "\n",
    "print(\"Data for second horses (名 = 2) has been saved to 'second_horses.csv'\")"
   ]
  },
  {
   "cell_type": "code",
   "execution_count": null,
   "metadata": {
    "colab": {
     "base_uri": "https://localhost:8080/",
     "height": 586
    },
    "id": "nl6OtNxm6Ocu",
    "outputId": "450413aa-3699-4ff3-89c2-3df287474755"
   },
   "outputs": [],
   "source": [
    "# 做中位数的可视化\n",
    "\n",
    "import pandas as pd\n",
    "import matplotlib.pyplot as plt\n",
    "import seaborn as sns\n",
    "import numpy as np\n",
    "\n",
    "# Load the dataset\n",
    "df = pd.read_csv('/content/second_horses.csv')\n",
    "\n",
    "# Prepare the data for visualization (assuming '賠' column represents odds)\n",
    "odds_data = df['賠'].dropna()  # Remove missing values\n",
    "odds_data = pd.to_numeric(odds_data, errors='coerce').dropna() # Convert to numeric and remove invalid entries\n",
    "\n",
    "\n",
    "# Calculate percentiles\n",
    "median = np.median(odds_data)\n",
    "\n",
    "print(f\"Median: {median}\")\n",
    "\n",
    "# Create the histogram\n",
    "plt.figure(figsize=(10, 6))\n",
    "sns.histplot(odds_data, kde=True, color='moccasin', edgecolor='grey')\n",
    "\n",
    "# Add vertical lines for percentiles and median\n",
    "plt.axvline(median, color='red', linestyle='dashed', linewidth=1, label=f'Median ({median:.2f})')\n",
    "\n",
    "\n",
    "# Annotate the lines\n",
    "plt.text(median + 0.1, plt.gca().get_ylim()[1] * 0.8, f'{median:.2f}', color='red', fontsize=10)\n",
    "\n",
    "# Add labels and title\n",
    "plt.xlabel('Odds', fontsize=12)\n",
    "plt.ylabel('Frequency', fontsize=12)\n",
    "plt.title('Second Place Horse Odds Frequency Histogram', fontsize=14)\n",
    "plt.legend()\n",
    "plt.grid(True, linestyle='--', alpha=0.4)\n",
    "plt.show()"
   ]
  },
  {
   "cell_type": "code",
   "execution_count": null,
   "metadata": {
    "id": "lOubndoQ5Wou"
   },
   "outputs": [],
   "source": [
    "# 季军可视化"
   ]
  },
  {
   "cell_type": "code",
   "execution_count": null,
   "metadata": {
    "colab": {
     "base_uri": "https://localhost:8080/"
    },
    "id": "5bzc_f5c5Wov",
    "outputId": "52a2b050-c593-4453-c719-b93b1d77997e"
   },
   "outputs": [],
   "source": [
    "import pandas as pd\n",
    "\n",
    "# Load the cleaned dataset\n",
    "df = pd.read_csv('/content/all_sorted_cleaned.csv')\n",
    "\n",
    "# Filter for rows where '名' is 3\n",
    "third_horses = df[df['名'] == 3]\n",
    "\n",
    "# Save the filtered data to a new CSV file\n",
    "third_horses.to_csv('/content/third_horses.csv', index=False, encoding='utf-8')\n",
    "\n",
    "print(\"Data for third horses (名 = 3) has been saved to 'third_horses.csv'\")"
   ]
  },
  {
   "cell_type": "code",
   "execution_count": null,
   "metadata": {
    "colab": {
     "base_uri": "https://localhost:8080/",
     "height": 586
    },
    "id": "p2kylo2I7h63",
    "outputId": "3710959b-68a2-48ef-91df-b36c7a1e28ac"
   },
   "outputs": [],
   "source": [
    "# 做中位数的可视化\n",
    "\n",
    "import pandas as pd\n",
    "import matplotlib.pyplot as plt\n",
    "import seaborn as sns\n",
    "import numpy as np\n",
    "\n",
    "# Load the dataset\n",
    "df = pd.read_csv('/content/third_horses.csv')\n",
    "\n",
    "# Prepare the data for visualization (assuming '賠' column represents odds)\n",
    "odds_data = df['賠'].dropna()  # Remove missing values\n",
    "odds_data = pd.to_numeric(odds_data, errors='coerce').dropna() # Convert to numeric and remove invalid entries\n",
    "\n",
    "\n",
    "# Calculate percentiles\n",
    "median = np.median(odds_data)\n",
    "\n",
    "print(f\"Median: {median}\")\n",
    "\n",
    "# Create the histogram\n",
    "plt.figure(figsize=(10, 6))\n",
    "sns.histplot(odds_data, kde=True, color='skyblue', edgecolor='grey')\n",
    "\n",
    "# Add vertical lines for percentiles and median\n",
    "plt.axvline(median, color='red', linestyle='dashed', linewidth=1, label=f'Median ({median:.2f})')\n",
    "\n",
    "\n",
    "# Annotate the lines\n",
    "plt.text(median + 0.1, plt.gca().get_ylim()[1] * 0.8, f'{median:.2f}', color='red', fontsize=10)\n",
    "\n",
    "# Add labels and title\n",
    "plt.xlabel('Odds', fontsize=12)\n",
    "plt.ylabel('Frequency', fontsize=12)\n",
    "plt.title('Third Place Horse Odds Frequency Histogram', fontsize=14)\n",
    "plt.legend()\n",
    "plt.grid(True, linestyle='--', alpha=0.4)\n",
    "plt.show()"
   ]
  }
 ],
 "metadata": {
  "colab": {
   "provenance": []
  },
  "kernelspec": {
   "display_name": "base",
   "language": "python",
   "name": "python3"
  },
  "language_info": {
   "codemirror_mode": {
    "name": "ipython",
    "version": 3
   },
   "file_extension": ".py",
   "mimetype": "text/x-python",
   "name": "python",
   "nbconvert_exporter": "python",
   "pygments_lexer": "ipython3",
   "version": "3.12.7"
  }
 },
 "nbformat": 4,
 "nbformat_minor": 0
}
